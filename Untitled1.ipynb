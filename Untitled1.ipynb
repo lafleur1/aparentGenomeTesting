{
 "cells": [
  {
   "cell_type": "code",
   "execution_count": null,
   "metadata": {},
   "outputs": [],
   "source": [
    "#trying to train regression model to classify a site\n",
    "\n",
    "import numpy as np\n",
    "import sklearn as sk\n",
    "from sklearn import metrics\n",
    "form sklearn import linear_model\n",
    "import matplotlib.pyplot as plt\n",
    "import math\n",
    "import pandas as pd\n",
    "\n",
    "\n",
    "\n",
    "#\n",
    "\n",
    "\n"
   ]
  }
 ],
 "metadata": {
  "kernelspec": {
   "display_name": "Python [conda env:anaconda2-aparent_proj]",
   "language": "python",
   "name": "conda-env-anaconda2-aparent_proj-py"
  },
  "language_info": {
   "codemirror_mode": {
    "name": "ipython",
    "version": 3
   },
   "file_extension": ".py",
   "mimetype": "text/x-python",
   "name": "python",
   "nbconvert_exporter": "python",
   "pygments_lexer": "ipython3",
   "version": "3.6.9"
  }
 },
 "nbformat": 4,
 "nbformat_minor": 2
}
