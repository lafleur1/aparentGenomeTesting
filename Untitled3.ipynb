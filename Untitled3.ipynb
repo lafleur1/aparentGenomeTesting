{
 "cells": [
  {
   "cell_type": "code",
   "execution_count": 5,
   "metadata": {},
   "outputs": [],
   "source": [
    "from __future__ import print_function\n",
    "import keras\n",
    "from keras.models import Sequential, Model, load_model\n",
    "from keras import backend as K\n",
    "import tensorflow as tf\n",
    "import isolearn.keras as iso\n",
    "import os\n",
    "import pandas as pd\n",
    "import numpy as np\n",
    "import matplotlib.pyplot as plt\n",
    "import matplotlib.cm as cm\n",
    "from keras.utils import plot_model\n",
    "import time\n",
    "\n",
    "from aparent.predictor import *\n",
    "##################################################\n",
    "#import bioPython for working with FASTA files\n",
    "from Bio import SeqIO\n",
    "##################################################\n",
    "\n",
    "aparent_model = load_model('./saved_models/aparent_large_lessdropout_all_libs_no_sampleweights.h5')\n",
    "#plot_model(aparent_model, show_shapes = True, to_file='APARENTmodel.png')\n",
    "aparent_encoder = get_aparent_encoder(lib_bias=4)\n",
    "\n"
   ]
  },
  {
   "cell_type": "code",
   "execution_count": null,
   "metadata": {},
   "outputs": [],
   "source": [
    "seq = 100000 * \"A\"\n",
    "#loading model\n",
    "start_time = time.time()\n",
    "x,y = find_polya_peaks_memoryFriendly(\n",
    "                aparent_model,\n",
    "                aparent_encoder,\n",
    "                seq,\n",
    "                sequence_stride=10,\n",
    "                conv_smoothing=False,\n",
    "                peak_min_height=0.01,\n",
    "                peak_min_distance=50,\n",
    "                peak_prominence=(0.01, None)\n",
    "            )\n",
    "print (x)\n",
    "print (y)\n",
    "print (y.size)\n",
    "secondsDiffs = time.time()-start_time\n",
    "print (secondsDiffs)"
   ]
  },
  {
   "cell_type": "code",
   "execution_count": null,
   "metadata": {},
   "outputs": [],
   "source": [
    "seq = 100000 * \"A\"\n",
    "#loading model\n",
    "start_time = time.time()\n",
    "x,y2 = find_polya_peaks_memoryFriendlyV2(\n",
    "                aparent_model,\n",
    "                aparent_encoder,\n",
    "                seq,\n",
    "                sequence_stride=10,\n",
    "                conv_smoothing=False,\n",
    "                peak_min_height=0.01,\n",
    "                peak_min_distance=50,\n",
    "                peak_prominence=(0.01, None)\n",
    "            )\n",
    "print (x)\n",
    "print (y)\n",
    "print (y.size)\n",
    "secondsDiffs = time.time()-start_time\n",
    "print (secondsDiffs)"
   ]
  },
  {
   "cell_type": "code",
   "execution_count": null,
   "metadata": {},
   "outputs": [],
   "source": [
    "#find_polya_peaks_memoryFriendlyV3(aparent_model, aparent_encoder, seq, sequence_stride=10, output_size = 10000, fileStem) :\n",
    "seq = 100000 * \"A\"\n",
    "fileStem = \"dummy/dummy1\"\n",
    "files = find_polya_peaks_memoryFriendlyV3(aparent_model, aparent_encoder, seq, fileStem, 15, 10000)\n",
    "                \n",
    "print (files)\n",
    "\n",
    "\n"
   ]
  },
  {
   "cell_type": "code",
   "execution_count": null,
   "metadata": {},
   "outputs": [],
   "source": []
  }
 ],
 "metadata": {
  "kernelspec": {
   "display_name": "Python [conda env:anaconda2-aparent_proj]",
   "language": "python",
   "name": "conda-env-anaconda2-aparent_proj-py"
  },
  "language_info": {
   "codemirror_mode": {
    "name": "ipython",
    "version": 3
   },
   "file_extension": ".py",
   "mimetype": "text/x-python",
   "name": "python",
   "nbconvert_exporter": "python",
   "pygments_lexer": "ipython3",
   "version": "3.6.9"
  }
 },
 "nbformat": 4,
 "nbformat_minor": 2
}
