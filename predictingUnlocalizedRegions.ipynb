{
 "cells": [
  {
   "cell_type": "code",
   "execution_count": null,
   "metadata": {},
   "outputs": [
    {
     "name": "stderr",
     "output_type": "stream",
     "text": [
      "/home/lafleur1/.local/lib/python3.6/site-packages/keras/engine/saving.py:341: UserWarning: No training configuration found in save file: the model was *not* compiled. Compile it manually.\n",
      "  warnings.warn('No training configuration found in save file: '\n"
     ]
    },
    {
     "name": "stdout",
     "output_type": "stream",
     "text": [
      "PREDICTING  CM000683.2  with length  46709983\n",
      "Stride length is:  10\n"
     ]
    }
   ],
   "source": [
    "from __future__ import print_function\n",
    "import keras\n",
    "from keras.models import Sequential, Model, load_model\n",
    "from keras import backend as K\n",
    "import tensorflow as tf\n",
    "import isolearn.keras as iso\n",
    "import os\n",
    "import pandas as pd\n",
    "import numpy as np\n",
    "import matplotlib.pyplot as plt\n",
    "import matplotlib.cm as cm\n",
    "from keras.utils import plot_model\n",
    "\n",
    "\n",
    "from aparent.predictor import *\n",
    "##################################################\n",
    "#import bioPython for working with FASTA files\n",
    "from Bio import SeqIO\n",
    "##################################################\n",
    "\n",
    "\n",
    "#loading model\n",
    "aparent_model = load_model('./saved_models/aparent_large_lessdropout_all_libs_no_sampleweights.h5')\n",
    "plot_model(aparent_model, show_shapes = True, to_file='APARENTmodel.png')\n",
    "aparent_encoder = get_aparent_encoder(lib_bias=4)\n",
    "\n",
    "#setting up files, prediction cor chr 21\n",
    "fastaDestination = \"./fastas/\"\n",
    "fastaNames = [\"chr21\"]\n",
    "predDestination = \"./PredictionBinaries/\"\n",
    "#strideSizes = [1,2,3,4,5,6,7,8,9,10,11,12,13,14,15,20,25,30,35,40,45,50]\n",
    "strideSizes = [10]\n",
    "\n",
    "#running files\n",
    "for name in fastaNames:\n",
    "    contigSeq = SeqIO.read(fastaDestination + name + \".fasta\", \"fasta\")\n",
    "    seq = contigSeq.seq #actual genomic sequence from the file\n",
    "    print (\"PREDICTING \", contigSeq.id, \" with length \", len(seq))\n",
    "    for stride in strideSizes:\n",
    "            print (\"Stride length is: \", stride)\n",
    "            x,y = find_polya_peaks_memoryFriendly(\n",
    "                aparent_model,\n",
    "                aparent_encoder,\n",
    "                seq,\n",
    "                sequence_stride=stride,\n",
    "                conv_smoothing=False,\n",
    "                peak_min_height=0.01,\n",
    "                peak_min_distance=50,\n",
    "                peak_prominence=(0.01, None),\n",
    "            )\n",
    "            repPeriod = name.replace(\".\", \"_\")\n",
    "            np.save(predDestination + name + \"Predictions/\" +repPeriod + \"_cutPredsStrideLen\" + str(stride), y )\n",
    "    print (\"FINISHED\")\n",
    "\n"
   ]
  },
  {
   "cell_type": "code",
   "execution_count": null,
   "metadata": {},
   "outputs": [],
   "source": []
  }
 ],
 "metadata": {
  "kernelspec": {
   "display_name": "Python [conda env:anaconda2-aparent_proj]",
   "language": "python",
   "name": "conda-env-anaconda2-aparent_proj-py"
  },
  "language_info": {
   "codemirror_mode": {
    "name": "ipython",
    "version": 3
   },
   "file_extension": ".py",
   "mimetype": "text/x-python",
   "name": "python",
   "nbconvert_exporter": "python",
   "pygments_lexer": "ipython3",
   "version": "3.6.9"
  }
 },
 "nbformat": 4,
 "nbformat_minor": 2
}
