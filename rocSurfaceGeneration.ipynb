{
 "cells": [
  {
   "cell_type": "code",
   "execution_count": 12,
   "metadata": {},
   "outputs": [
    {
     "name": "stdout",
     "output_type": "stream",
     "text": [
      "Thresholds:  [2.   1.   0.8  0.4  0.35 0.1 ]\n",
      "1.0\n",
      "0.6666666666666667\n",
      "0.33333333333333337\n",
      "0.7453559924999299\n",
      "0.6666666666666666\n",
      "1.0\n",
      "maxDistFPR:  0.0  maxDistTPR:  0.6666666666666666 Threshold:  0.8\n",
      "equalFPR:  0.6666666666666666  equalTPR:  0.6666666666666666 Threshold:  0.4\n",
      "closestFPR:  0.6666666666666666  closestTPR:  0.6666666666666666 Threshold:  0.4\n"
     ]
    },
    {
     "data": {
      "image/png": "[encoded data removed]",
      "text/plain": [
       "<Figure size 432x288 with 1 Axes>"
      ]
     },
     "metadata": {
      "needs_background": "light"
     },
     "output_type": "display_data"
    }
   ],
   "source": [
    "#AML 11/14/15\n",
    "#testing setting up the true labels for the polyASite2.0 Datasets for the sklearn.metrics.roc_curve \n",
    "\n",
    "#testing roc_curve\n",
    "import numpy as np\n",
    "import sklearn as sk\n",
    "from sklearn import metrics\n",
    "import matplotlib.pyplot as plt\n",
    "import math\n",
    "\n",
    "y = np.array([1, 1, 2, 2,1,2])\n",
    "scores = np.array([0.1, 0.4, 0.35, 0.8,0.6,1.0])\n",
    "fpr, tpr, thresholds = sk.metrics.roc_curve(y, scores, pos_label=2)\n",
    "#print (\"FPR: \", fpr)\n",
    "#print (\"TPR: \", tpr)\n",
    "print (\"Thresholds: \", thresholds)\n",
    "\n",
    "#functions for calculating the 3 most common threshold choosing techniques:\n",
    "#1) Threshold w/max distance from the 45 degree line\n",
    "#2) Threshold w/min distance to point where Sensitivity=Specificity\n",
    "#3) Threshold w/min distance to (1,1)\n",
    "\n",
    "def maxPosDist45DegreeLine(fpr,tpr, threshs):\n",
    "    #fpr is x, tpr is y\n",
    "    #find the fpr,tpr,and threshold of the ROC point with the maximum positive distance from the 45 degree line\n",
    "    maxPosDist = -1\n",
    "    maxIndex = 0\n",
    "    for i in range(0,len(fpr)):\n",
    "        if tpr[i] >=fpr[i]: #above or on the 45 degree line\n",
    "            currPosDist = tpr[i] - fpr[i] #since 45 degree line is y=x\n",
    "            if currPosDist >= maxPosDist:\n",
    "                    maxPosDist = currPosDist \n",
    "                    maxIndex = i\n",
    "    if maxPosDist == -1:\n",
    "        return None\n",
    "    else:\n",
    "        return fpr[maxIndex], tpr[maxIndex], threshs[maxIndex]\n",
    "\n",
    "\n",
    "def findSpecifictySensitivityEqualityPoint(fpr,tpr,threshs):\n",
    "    #find the prediction closest to where sensitivity=specificity\n",
    "    minDiff = math.sqrt(2) #maximum possible distance for the unit cube of the ROC curve\n",
    "    minIndex = 0\n",
    "    for i in range(0,len(fpr)):\n",
    "        if fpr[i] != 0.0 and tpr[i] != 0.0: #will always choose (0,0) if not blocked from doing so\n",
    "            se = tpr[i]\n",
    "            sp = 1 - fpr[i]\n",
    "            currDiff = math.fabs(se-sp)\n",
    "            if currDiff < minDiff:\n",
    "                minDiff = currDiff\n",
    "                minIndex = i\n",
    "    if minDiff != math.sqrt(2):\n",
    "        return fpr[minIndex], tpr[minIndex], threshs[minIndex]\n",
    "    \n",
    "def minDistanceTopLeftCorner(fpr,tpr,threshs):\n",
    "    #find the prediction closest to (1,1)\n",
    "    minDist = math.sqrt(2) #maximum possible distance for the unit cube of the ROC curve\n",
    "    minIndex = 0\n",
    "    for i in range(0,len(fpr)):\n",
    "        currDist = math.sqrt((fpr[i])**2 + (1-tpr[i])**2)\n",
    "        print (currDist)\n",
    "        if currDist < minDist:\n",
    "            minDist = currDist\n",
    "            minIndex = i\n",
    "    if minDist != math.sqrt(2):\n",
    "        return fpr[minIndex], tpr[minIndex], threshs[minIndex]\n",
    "    \n",
    "posDistFPR, posDistTPR, posDistThresh  = maxPosDist45DegreeLine(fpr,tpr,thresholds)\n",
    "equalFPR, equalTPR, equalThresh  = findSpecifictySensitivityEqualityPoint(fpr,tpr,thresholds)\n",
    "closeFPR, closeTPR, closeThresh  = minDistanceTopLeftCorner(fpr,tpr,thresholds)\n",
    "print (\"maxDistFPR: \", posDistFPR, \" maxDistTPR: \", posDistTPR, \"Threshold: \", posDistThresh)\n",
    "print (\"equalFPR: \", equalFPR, \" equalTPR: \", equalTPR, \"Threshold: \", equalThresh)\n",
    "print (\"closestFPR: \", equalFPR, \" closestTPR: \", equalTPR, \"Threshold: \", equalThresh)\n",
    "plt.plot(fpr, tpr, )\n",
    "plt.scatter(posDistFPR,posDistTPR, c = \"blue\",label = \"Maxmimum Distance from 45\")\n",
    "plt.scatter(equalFPR,equalTPR, c = \"red\", label = \"Closest to FPR=TPR\")\n",
    "plt.scatter(closeFPR, closeTPR, c = \"green\", label = \"Closest to (1,1)\")\n",
    "plt.title(\"Demo ROC Curve\")\n",
    "plt.xlabel(\"FPR\")\n",
    "plt.ylabel(\"TPR\")\n",
    "plt.legend()\n",
    "plt.show()\n",
    "\n"
   ]
  },
  {
   "cell_type": "code",
   "execution_count": null,
   "metadata": {},
   "outputs": [],
   "source": []
  }
 ],
 "metadata": {
  "kernelspec": {
   "display_name": "Python [conda env:anaconda2-aparent_proj]",
   "language": "python",
   "name": "conda-env-anaconda2-aparent_proj-py"
  },
  "language_info": {
   "codemirror_mode": {
    "name": "ipython",
    "version": 3
   },
   "file_extension": ".py",
   "mimetype": "text/x-python",
   "name": "python",
   "nbconvert_exporter": "python",
   "pygments_lexer": "ipython3",
   "version": "3.6.9"
  }
 },
 "nbformat": 4,
 "nbformat_minor": 2
}
