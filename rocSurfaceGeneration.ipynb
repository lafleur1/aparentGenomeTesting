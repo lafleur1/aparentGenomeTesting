{
 "cells": [
  {
   "cell_type": "code",
   "execution_count": 3,
   "metadata": {
    "scrolled": false
   },
   "outputs": [
    {
     "name": "stdout",
     "output_type": "stream",
     "text": [
      "Thresholds:  [2.   1.   0.8  0.4  0.35 0.1 ]\n"
     ]
    },
    {
     "data": {
      "text/plain": [
       "'    \\nposDistFPR, posDistTPR, posDistThresh, x  = maxPosDist45DegreeLine(fpr,tpr,thresholds)\\nequalFPR, equalTPR, equalThresh, x  = findSpecifictySensitivityEqualityPoint(fpr,tpr,thresholds)\\ncloseFPR, closeTPR, closeThresh, x  = minDistanceTopLeftCorner(fpr,tpr,thresholds)\\nprint (\"maxDistFPR: \", posDistFPR, \" maxDistTPR: \", posDistTPR, \"Threshold: \", posDistThresh)\\nprint (\"equalFPR: \", equalFPR, \" equalTPR: \", equalTPR, \"Threshold: \", equalThresh)\\nprint (\"closestFPR: \", equalFPR, \" closestTPR: \", equalTPR, \"Threshold: \", equalThresh)\\nplt.plot(fpr, tpr, )\\nplt.scatter(posDistFPR,posDistTPR, c = \"blue\",label = \"Maxmimum Distance from 45\")\\nplt.scatter(equalFPR,equalTPR, c = \"red\", label = \"Closest to FPR=TPR\")\\nplt.scatter(closeFPR, closeTPR, c = \"green\", label = \"Closest to (1,1)\")\\nplt.title(\"Demo ROC Curve\")\\nplt.xlabel(\"FPR\")\\nplt.ylabel(\"TPR\")\\nplt.legend()\\nplt.show()\\n\\n#the number of true positives in the entire genome is 5425800 (includes overlapping regions too)\\n#which means very spare signal to recover.....\\n'"
      ]
     },
     "execution_count": 3,
     "metadata": {},
     "output_type": "execute_result"
    }
   ],
   "source": [
    "#AML 11/14/15\n",
    "#testing setting up the true labels for the polyASite2.0 Datasets for the sklearn.metrics.roc_curve \n",
    "\n",
    "#testing roc_curve\n",
    "import numpy as np\n",
    "import sklearn as sk\n",
    "from sklearn import metrics\n",
    "import matplotlib.pyplot as plt\n",
    "import math\n",
    "import pandas as pd\n",
    "\n",
    "y = np.array([1, 1, 2, 2,1,2])\n",
    "scores = np.array([0.1, 0.4, 0.35, 0.8,0.6,1.0])\n",
    "fpr, tpr, thresholds = sk.metrics.roc_curve(y, scores, pos_label=2)\n",
    "#print (\"FPR: \", fpr)\n",
    "#print (\"TPR: \", tpr)\n",
    "print (\"Thresholds: \", thresholds)\n",
    "\n",
    "#functions for calculating the 3 most common threshold choosing techniques:\n",
    "#1) Threshold w/max distance from the 45 degree line\n",
    "#2) Threshold w/min distance to point where Sensitivity=Specificity\n",
    "#3) Threshold w/min distance to (1,1)\n",
    "\n",
    "def maxPosDist45DegreeLine(fpr,tpr, threshs):\n",
    "    #fpr is x, tpr is y\n",
    "    #find the fpr,tpr,and threshold of the ROC point with the maximum positive distance from the 45 degree line\n",
    "    maxPosDist = -1\n",
    "    maxIndex = 0\n",
    "    for i in range(0,len(fpr)):\n",
    "        if tpr[i] >=fpr[i]: #above or on the 45 degree line\n",
    "            currPosDist = tpr[i] - fpr[i] #since 45 degree line is y=x\n",
    "            if currPosDist >= maxPosDist:\n",
    "                    maxPosDist = currPosDist \n",
    "                    maxIndex = i\n",
    "    if maxPosDist == -1:\n",
    "        return None\n",
    "    else:\n",
    "        return fpr[maxIndex], tpr[maxIndex], threshs[maxIndex], maxPosDist\n",
    "\n",
    "\n",
    "def findSpecifictySensitivityEqualityPoint(fpr,tpr,threshs):\n",
    "    #find the prediction closest to where sensitivity=specificity\n",
    "    minDiff = math.sqrt(2) #maximum possible distance for the unit cube of the ROC curve\n",
    "    minIndex = 0\n",
    "    for i in range(0,len(fpr)):\n",
    "        if fpr[i] != 0.0 and tpr[i] != 0.0: #will always choose (0,0) if not blocked from doing so\n",
    "            se = tpr[i]\n",
    "            sp = 1 - fpr[i]\n",
    "            currDiff = math.fabs(se-sp)\n",
    "            if currDiff < minDiff:\n",
    "                minDiff = currDiff\n",
    "                minIndex = i\n",
    "    if minDiff != math.sqrt(2):\n",
    "        return fpr[minIndex], tpr[minIndex], threshs[minIndex], minDiff\n",
    "    \n",
    "def minDistanceTopLeftCorner(fpr,tpr,threshs):\n",
    "    #find the prediction closest to (1,1)\n",
    "    minDist = math.sqrt(2) #maximum possible distance for the unit cube of the ROC curve\n",
    "    minIndex = 0\n",
    "    for i in range(0,len(fpr)):\n",
    "        currDist = math.sqrt((fpr[i])**2 + (1-tpr[i])**2)\n",
    "        #print (currDist)\n",
    "        if currDist < minDist:\n",
    "            minDist = currDist\n",
    "            minIndex = i\n",
    "    if minDist != math.sqrt(2):\n",
    "        return fpr[minIndex], tpr[minIndex], threshs[minIndex], minDist\n",
    "\n",
    "    \n",
    "\n",
    "'''    \n",
    "posDistFPR, posDistTPR, posDistThresh, x  = maxPosDist45DegreeLine(fpr,tpr,thresholds)\n",
    "equalFPR, equalTPR, equalThresh, x  = findSpecifictySensitivityEqualityPoint(fpr,tpr,thresholds)\n",
    "closeFPR, closeTPR, closeThresh, x  = minDistanceTopLeftCorner(fpr,tpr,thresholds)\n",
    "print (\"maxDistFPR: \", posDistFPR, \" maxDistTPR: \", posDistTPR, \"Threshold: \", posDistThresh)\n",
    "print (\"equalFPR: \", equalFPR, \" equalTPR: \", equalTPR, \"Threshold: \", equalThresh)\n",
    "print (\"closestFPR: \", equalFPR, \" closestTPR: \", equalTPR, \"Threshold: \", equalThresh)\n",
    "plt.plot(fpr, tpr, )\n",
    "plt.scatter(posDistFPR,posDistTPR, c = \"blue\",label = \"Maxmimum Distance from 45\")\n",
    "plt.scatter(equalFPR,equalTPR, c = \"red\", label = \"Closest to FPR=TPR\")\n",
    "plt.scatter(closeFPR, closeTPR, c = \"green\", label = \"Closest to (1,1)\")\n",
    "plt.title(\"Demo ROC Curve\")\n",
    "plt.xlabel(\"FPR\")\n",
    "plt.ylabel(\"TPR\")\n",
    "plt.legend()\n",
    "plt.show()\n",
    "\n",
    "#the number of true positives in the entire genome is 5425800 (includes overlapping regions too)\n",
    "#which means very spare signal to recover.....\n",
    "'''\n"
   ]
  },
  {
   "cell_type": "code",
   "execution_count": 12,
   "metadata": {},
   "outputs": [
    {
     "name": "stdout",
     "output_type": "stream",
     "text": [
      "179198\n"
     ]
    },
    {
     "name": "stderr",
     "output_type": "stream",
     "text": [
      "/home/lafleur1/anaconda2/envs/aparent_proj/lib/python3.6/site-packages/IPython/core/interactiveshell.py:3058: DtypeWarning: Columns (0) have mixed types. Specify dtype option on import or set low_memory=False.\n",
      "  interactivity=interactivity, compiler=compiler, result=result)\n"
     ]
    },
    {
     "name": "stdout",
     "output_type": "stream",
     "text": [
      "Total true labelled positions:  353.0\n",
      "Total length of contig:  179198\n",
      "Fraction of NT's which are APA sites:  0.001969888056786348\n"
     ]
    },
    {
     "data": {
      "image/png": "[encoded data removed]",
      "text/plain": [
       "<Figure size 432x288 with 1 Axes>"
      ]
     },
     "metadata": {
      "needs_background": "light"
     },
     "output_type": "display_data"
    },
    {
     "name": "stdout",
     "output_type": "stream",
     "text": [
      "Best AUC is  0.7114515972295317  with stride length  35\n"
     ]
    },
    {
     "data": {
      "image/png": "[encoded data removed]",
      "text/plain": [
       "<Figure size 432x288 with 1 Axes>"
      ]
     },
     "metadata": {
      "needs_background": "light"
     },
     "output_type": "display_data"
    }
   ],
   "source": [
    "#Opening GL000219.1 predictions\n",
    "strideSizes = [1,2,3,4,5,6,7,8,9,10,11,12,13,14,15,20,25,30,35,40,45,50]\n",
    "names = [\"GL000219.1\"]\n",
    "predStem = \"./PredictionBinaries/\"\n",
    "pred_slide1 = np.load(\"./PredictionBinaries/GL000219.1Predictions/GL000219_1_cutPredsStrideLen3.npy\")\n",
    "print (pred_slide1.size)\n",
    "\n",
    "#opening all the true values\n",
    "colnames = [\"seqName\",  \"start\" , \"end\",  \"clusterID\",  \"avgTPM\",  \"strand\",   \"percentSupporting\",   \"protocolsSupporting\",  \"avgTPM2\",   \"type\",   \"upstreamClusters\"]\n",
    "pas_stuff =pd.read_csv('atlas.clusters.hg38.2-0.bed',delimiter='\\t', names = colnames) \n",
    "\n",
    "\n",
    "def computeAndGraphAllROCs(name,sizes,makePlot = False):\n",
    "    nameNoDot = name.replace(\".\",\"_\")\n",
    "    extenedCutPredStem = \"./PredictionBinaries/\" + name + \"Predictions/\" + nameNoDot + \"_cutPredsStrideLen\"\n",
    "    fprs = []\n",
    "    tprs = []\n",
    "    threshs = []\n",
    "    aucs = []\n",
    "    dist45 = {'fpr':[], 'tpr':[], 'thresholds':[], 'values':[]}\n",
    "    minEqual = {'fpr':[], 'tpr':[], 'thresholds':[], 'values':[]}\n",
    "    topLeft = {'fpr':[], 'tpr':[], 'thresholds':[], 'values':[]}\n",
    "    #set up true value labels\n",
    "    predForSlide = np.load(extenedCutPredStem + \"1.npy\") #opening first binary to get length of region\n",
    "    trueValBoolMask = pas_stuff['seqName'] == name\n",
    "    currentTrueVals = pas_stuff[trueValBoolMask]\n",
    "    trueValsArray = np.zeros(predForSlide.size) #create numpy array of all 0's the length of the sequence\n",
    "    for index, row in currentTrueVals.iterrows():\n",
    "        trueValsArray[row['start']:row['end']] = 1 #set actual true values to 1 in the array\n",
    "    print (\"Total true labelled positions: \", np.sum(trueValsArray))\n",
    "    print (\"Total length of contig: \", trueValsArray.size)\n",
    "    print (\"Fraction of NT's which are APA sites: \", np.sum(trueValsArray)/trueValsArray.size)\n",
    "    ######\n",
    "    #Compute ROC curve and ROC AUC for each stride length\n",
    "    for size in sizes:\n",
    "        predForSlide = np.load(extenedCutPredStem + str(size) + \".npy\") #open predictions for the fasta file \n",
    "        pred_slide1 = np.reshape(predForSlide, trueValsArray.shape) #reshape for roc predictions\n",
    "        fpr, tpr, thresholds = sk.metrics.roc_curve(totalTrueLabels, pred_slide1)\n",
    "        fprs.append(fpr)\n",
    "        tprs.append(tpr)\n",
    "        threshs.append(thresholds)\n",
    "        auc_score = sk.metrics.roc_auc_score(totalTrueLabels,pred_slide1)\n",
    "        aucs.append(auc_score)\n",
    "        posDistFPR, posDistTPR, posDistThresh, x  = maxPosDist45DegreeLine(fpr,tpr,thresholds)\n",
    "        dist45['fpr'].append(posDistFPR)\n",
    "        dist45['tpr'].append(posDistTPR)\n",
    "        dist45['thresholds'].append(posDistThresh)\n",
    "        dist45['values'].append(x)\n",
    "        equalFPR, equalTPR, equalThresh, x  = findSpecifictySensitivityEqualityPoint(fpr,tpr,thresholds)\n",
    "        minEqual['fpr'].append(equalFPR)\n",
    "        minEqual['tpr'].append(equalTPR)\n",
    "        minEqual['thresholds'].append(equalThresh)\n",
    "        minEqual['values'].append(x)\n",
    "        closeFPR, closeTPR, closeThresh, x  = minDistanceTopLeftCorner(fpr,tpr,thresholds)\n",
    "        topLeft['fpr'].append(closeFPR)\n",
    "        topLeft['tpr'].append(closeTPR)\n",
    "        topLeft['thresholds'].append(closeThresh)\n",
    "        topLeft['values'].append(x)\n",
    "    return fprs,tprs,threshs,aucs,dist45,minEqual,topLeft\n",
    "\n",
    "\n",
    "def graphAllROCs(name, sizes):\n",
    "    fprs,tprs,threshs,aucs,dist45,minEqual,topLeft = computeAndGraphAllROCs(name, sizes)\n",
    "    for i in range(0,len(fprs)):\n",
    "        plt.plot(fpr,tpr)\n",
    "    plt.scatter(dist45['fpr'],dist45['tpr'], c = \"blue\",label = \"Maxmimum Distance from 45\")\n",
    "    plt.scatter(minEqual['fpr'],minEqual['tpr'], c = \"red\", label = \"Closest to FPR=TPR\")\n",
    "    plt.scatter(topLeft['fpr'], topLeft['tpr'], c = \"green\", label = \"Closest to (1,1)\")\n",
    "    plt.title(name + \" ROC Curves\")\n",
    "    plt.xlabel(\"FPR\")\n",
    "    plt.ylabel(\"TPR\")\n",
    "    plt.legend()\n",
    "    plt.show()\n",
    "    bsetAUCStride = sizes[aucs.index(max(aucs))]\n",
    "    print (\"Best AUC is \", max(aucs), \" with stride length \",bsetAUCStride )\n",
    "    #graph distribution of aucs\n",
    "    plt.plot(sizes,aucs)\n",
    "    plt.title(\"ROC AUC vs Stride Length for \" + name)\n",
    "    plt.xlabel(\"Stride Length\")\n",
    "    plt.ylabel(\"ROC AUC Score\")\n",
    "    plt.show()\n",
    "\n",
    "\n",
    "graphAllROCs(names[0], strideSizes)   \n",
    "    \n",
    "\n"
   ]
  },
  {
   "cell_type": "code",
   "execution_count": null,
   "metadata": {},
   "outputs": [],
   "source": []
  },
  {
   "cell_type": "code",
   "execution_count": null,
   "metadata": {},
   "outputs": [],
   "source": []
  }
 ],
 "metadata": {
  "kernelspec": {
   "display_name": "Python [conda env:anaconda2-aparent_proj]",
   "language": "python",
   "name": "conda-env-anaconda2-aparent_proj-py"
  },
  "language_info": {
   "codemirror_mode": {
    "name": "ipython",
    "version": 3
   },
   "file_extension": ".py",
   "mimetype": "text/x-python",
   "name": "python",
   "nbconvert_exporter": "python",
   "pygments_lexer": "ipython3",
   "version": "3.6.9"
  }
 },
 "nbformat": 4,
 "nbformat_minor": 2
}
