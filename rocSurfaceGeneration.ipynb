{
 "cells": [
  {
   "cell_type": "code",
   "execution_count": 1,
   "metadata": {
    "scrolled": false
   },
   "outputs": [
    {
     "name": "stdout",
     "output_type": "stream",
     "text": [
      "Thresholds:  [2.   1.   0.8  0.4  0.35 0.1 ]\n",
      "maxDistFPR:  0.0  maxDistTPR:  0.6666666666666666 Threshold:  0.8\n",
      "equalFPR:  0.6666666666666666  equalTPR:  0.6666666666666666 Threshold:  0.4\n",
      "closestFPR:  0.6666666666666666  closestTPR:  0.6666666666666666 Threshold:  0.4\n"
     ]
    },
    {
     "data": {
      "text/plain": [
       "<Figure size 640x480 with 1 Axes>"
      ]
     },
     "metadata": {},
     "output_type": "display_data"
    }
   ],
   "source": [
    "#AML 11/14/15\n",
    "#testing setting up the true labels for the polyASite2.0 Datasets for the sklearn.metrics.roc_curve \n",
    "\n",
    "#testing roc_curve\n",
    "import numpy as np\n",
    "import sklearn as sk\n",
    "from sklearn import metrics\n",
    "import matplotlib.pyplot as plt\n",
    "import math\n",
    "import pandas as pd\n",
    "\n",
    "y = np.array([1, 1, 2, 2,1,2])\n",
    "scores = np.array([0.1, 0.4, 0.35, 0.8,0.6,1.0])\n",
    "fpr, tpr, thresholds = sk.metrics.roc_curve(y, scores, pos_label=2)\n",
    "#print (\"FPR: \", fpr)\n",
    "#print (\"TPR: \", tpr)\n",
    "print (\"Thresholds: \", thresholds)\n",
    "\n",
    "#functions for calculating the 3 most common threshold choosing techniques:\n",
    "#1) Threshold w/max distance from the 45 degree line\n",
    "#2) Threshold w/min distance to point where Sensitivity=Specificity\n",
    "#3) Threshold w/min distance to (1,1)\n",
    "\n",
    "def maxPosDist45DegreeLine(fpr,tpr, threshs):\n",
    "    #fpr is x, tpr is y\n",
    "    #find the fpr,tpr,and threshold of the ROC point with the maximum positive distance from the 45 degree line\n",
    "    maxPosDist = -1\n",
    "    maxIndex = 0\n",
    "    for i in range(0,len(fpr)):\n",
    "        if tpr[i] >=fpr[i]: #above or on the 45 degree line\n",
    "            currPosDist = tpr[i] - fpr[i] #since 45 degree line is y=x\n",
    "            if currPosDist >= maxPosDist:\n",
    "                    maxPosDist = currPosDist \n",
    "                    maxIndex = i\n",
    "    if maxPosDist == -1:\n",
    "        return None\n",
    "    else:\n",
    "        return fpr[maxIndex], tpr[maxIndex], threshs[maxIndex], maxPosDist\n",
    "\n",
    "\n",
    "def findSpecifictySensitivityEqualityPoint(fpr,tpr,threshs):\n",
    "    #find the prediction closest to where sensitivity=specificity\n",
    "    minDiff = math.sqrt(2) #maximum possible distance for the unit cube of the ROC curve\n",
    "    minIndex = 0\n",
    "    for i in range(0,len(fpr)):\n",
    "        if fpr[i] != 0.0 and tpr[i] != 0.0: #will always choose (0,0) if not blocked from doing so\n",
    "            se = tpr[i]\n",
    "            sp = 1 - fpr[i]\n",
    "            currDiff = math.fabs(se-sp)\n",
    "            if currDiff < minDiff:\n",
    "                minDiff = currDiff\n",
    "                minIndex = i\n",
    "    if minDiff != math.sqrt(2):\n",
    "        return fpr[minIndex], tpr[minIndex], threshs[minIndex], minDiff\n",
    "    \n",
    "def minDistanceTopLeftCorner(fpr,tpr,threshs):\n",
    "    #find the prediction closest to (1,1)\n",
    "    minDist = math.sqrt(2) #maximum possible distance for the unit cube of the ROC curve\n",
    "    minIndex = 0\n",
    "    for i in range(0,len(fpr)):\n",
    "        currDist = math.sqrt((fpr[i])**2 + (1-tpr[i])**2)\n",
    "        #print (currDist)\n",
    "        if currDist < minDist:\n",
    "            minDist = currDist\n",
    "            minIndex = i\n",
    "    if minDist != math.sqrt(2):\n",
    "        return fpr[minIndex], tpr[minIndex], threshs[minIndex], minDist\n",
    "    \n",
    "posDistFPR, posDistTPR, posDistThresh, x  = maxPosDist45DegreeLine(fpr,tpr,thresholds)\n",
    "equalFPR, equalTPR, equalThresh, x  = findSpecifictySensitivityEqualityPoint(fpr,tpr,thresholds)\n",
    "closeFPR, closeTPR, closeThresh, x  = minDistanceTopLeftCorner(fpr,tpr,thresholds)\n",
    "print (\"maxDistFPR: \", posDistFPR, \" maxDistTPR: \", posDistTPR, \"Threshold: \", posDistThresh)\n",
    "print (\"equalFPR: \", equalFPR, \" equalTPR: \", equalTPR, \"Threshold: \", equalThresh)\n",
    "print (\"closestFPR: \", equalFPR, \" closestTPR: \", equalTPR, \"Threshold: \", equalThresh)\n",
    "plt.plot(fpr, tpr, )\n",
    "plt.scatter(posDistFPR,posDistTPR, c = \"blue\",label = \"Maxmimum Distance from 45\")\n",
    "plt.scatter(equalFPR,equalTPR, c = \"red\", label = \"Closest to FPR=TPR\")\n",
    "plt.scatter(closeFPR, closeTPR, c = \"green\", label = \"Closest to (1,1)\")\n",
    "plt.title(\"Demo ROC Curve\")\n",
    "plt.xlabel(\"FPR\")\n",
    "plt.ylabel(\"TPR\")\n",
    "plt.legend()\n",
    "plt.show()\n",
    "\n",
    "#the number of true positives in the entire genome is 5425800\n",
    "#which means very spare signal to recover.....\n",
    "\n"
   ]
  },
  {
   "cell_type": "code",
   "execution_count": 2,
   "metadata": {},
   "outputs": [
    {
     "name": "stdout",
     "output_type": "stream",
     "text": [
      "179198\n",
      "179198\n"
     ]
    }
   ],
   "source": [
    "#Opening GL000219.1 predictions\n",
    "strideSizes = [1,2,3,4,5,6,7,8,9,10,11,12,13,14,15,20,25,30,35,40,45,50]\n",
    "names = [\"GL000219.1\"]\n",
    "pred_slide1 = np.load(\"./PredictionBinaries/GL000219.1Predictions/GL000219_1_cutPredsStrideLen1.npy\")\n",
    "print (pred_slide1.size)\n",
    "\n",
    "totalTrueLabels = np.zeros(pred_slide1.size)\n",
    "print (totalTrueLabels.size)"
   ]
  },
  {
   "cell_type": "code",
   "execution_count": 3,
   "metadata": {},
   "outputs": [
    {
     "name": "stderr",
     "output_type": "stream",
     "text": [
      "/home/lafleur1/anaconda2/envs/aparent_proj/lib/python3.6/site-packages/IPython/core/interactiveshell.py:3058: DtypeWarning: Columns (0) have mixed types. Specify dtype option on import or set low_memory=False.\n",
      "  interactivity=interactivity, compiler=compiler, result=result)\n"
     ]
    },
    {
     "name": "stdout",
     "output_type": "stream",
     "text": [
      "Total true labelled positions:  353\n",
      "Total length of contig:  179198\n",
      "Fraction of NT's which are APA sites:  0.001969888056786348\n",
      "maxDistFPR:  0.25699348597947946  maxDistTPR:  0.5835694050991501 Threshold:  0.0006355198105904323\n",
      "equalFPR:  0.34521513042019625  equalTPR:  0.6572237960339944 Threshold:  0.00041767958875381025\n",
      "closestFPR:  0.34521513042019625  closestTPR:  0.6572237960339944 Threshold:  0.00041767958875381025\n",
      "ROC AUC Score:  0.7028881815381781\n"
     ]
    },
    {
     "data": {
      "image/png": "[encoded data removed]",
      "text/plain": [
       "<Figure size 432x288 with 1 Axes>"
      ]
     },
     "metadata": {
      "needs_background": "light"
     },
     "output_type": "display_data"
    }
   ],
   "source": [
    "#opening all the true values\n",
    "colnames = [\"seqName\",  \"start\" , \"end\",  \"clusterID\",  \"avgTPM\",  \"strand\",   \"percentSupporting\",   \"protocolsSupporting\",  \"avgTPM2\",   \"type\",   \"upstreamClusters\"]\n",
    "pas_stuff =pd.read_csv('atlas.clusters.hg38.2-0.bed',delimiter='\\t', names = colnames) \n",
    "\n",
    "#working with sites from just one unlocalized region GL000291.1\n",
    "onGL000219 = pas_stuff['seqName'] == \"GL000219.1\"\n",
    "onGLSites = pas_stuff[onGL000219]\n",
    "#note that some of the sites overal (even though paper methods were supposed to filter those regions)\n",
    "#change the values in the true labels for the whole contig to one for each PAS \n",
    "for index, row in onGLSites.iterrows():\n",
    "    totalTrueLabels[row['start']:row['end']] = 1\n",
    "    \n",
    "print (\"Total true labelled positions: \", np.sum(totalTrueLabels == 1))\n",
    "print (\"Total length of contig: \", totalTrueLabels.size)\n",
    "print (\"Fraction of NT's which are APA sites: \", np.sum(totalTrueLabels == 1)/totalTrueLabels.size)\n",
    "pred_slide1 = np.reshape(pred_slide1, totalTrueLabels.shape)\n",
    "#rinding ROC and ROC AUC\n",
    "fpr, tpr, thresholds = sk.metrics.roc_curve(totalTrueLabels, pred_slide1)\n",
    "auc_score = sk.metrics.roc_auc_score(totalTrueLabels,pred_slide1)\n",
    "#finding best threshold values\n",
    "posDistFPR, posDistTPR, posDistThresh, x  = maxPosDist45DegreeLine(fpr,tpr,thresholds)\n",
    "equalFPR, equalTPR, equalThresh, x  = findSpecifictySensitivityEqualityPoint(fpr,tpr,thresholds)\n",
    "closeFPR, closeTPR, closeThresh, x  = minDistanceTopLeftCorner(fpr,tpr,thresholds)\n",
    "#\n",
    "print (\"maxDistFPR: \", posDistFPR, \" maxDistTPR: \", posDistTPR, \"Threshold: \", posDistThresh)\n",
    "print (\"equalFPR: \", equalFPR, \" equalTPR: \", equalTPR, \"Threshold: \", equalThresh)\n",
    "print (\"closestFPR: \", equalFPR, \" closestTPR: \", equalTPR, \"Threshold: \", equalThresh)\n",
    "print (\"ROC AUC Score: \", auc_score)\n",
    "plt.plot(fpr, tpr, )\n",
    "plt.scatter(posDistFPR,posDistTPR, c = \"blue\",label = \"Maxmimum Distance from 45\")\n",
    "plt.scatter(equalFPR,equalTPR, c = \"red\", label = \"Closest to FPR=TPR\")\n",
    "plt.scatter(closeFPR, closeTPR, c = \"green\", label = \"Closest to (1,1)\")\n",
    "plt.title(\"GL000219.1 ROC Curve Stride 1\")\n",
    "plt.xlabel(\"FPR\")\n",
    "plt.ylabel(\"TPR\")\n",
    "plt.legend()\n",
    "plt.show()\n"
   ]
  },
  {
   "cell_type": "code",
   "execution_count": null,
   "metadata": {},
   "outputs": [],
   "source": []
  }
 ],
 "metadata": {
  "kernelspec": {
   "display_name": "Python [conda env:anaconda2-aparent_proj]",
   "language": "python",
   "name": "conda-env-anaconda2-aparent_proj-py"
  },
  "language_info": {
   "codemirror_mode": {
    "name": "ipython",
    "version": 3
   },
   "file_extension": ".py",
   "mimetype": "text/x-python",
   "name": "python",
   "nbconvert_exporter": "python",
   "pygments_lexer": "ipython3",
   "version": "3.6.9"
  }
 },
 "nbformat": 4,
 "nbformat_minor": 2
}
